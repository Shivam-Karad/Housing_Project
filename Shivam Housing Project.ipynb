{
 "cells": [
  {
   "cell_type": "markdown",
   "id": "44956f22",
   "metadata": {},
   "source": [
    "# Reading Dataset and Filter Warnings"
   ]
  },
  {
   "cell_type": "code",
   "execution_count": 1,
   "id": "406ea89f",
   "metadata": {},
   "outputs": [],
   "source": [
    "import pandas as pd\n",
    "A=pd.read_csv(\"C:/Users/admin/Downloads/training_set.csv\")\n",
    "B=pd.read_csv(\"C:/Users/admin/Downloads/testing_set.csv\")\n",
    "from warnings import filterwarnings\n",
    "filterwarnings(\"ignore\")"
   ]
  },
  {
   "cell_type": "code",
   "execution_count": 2,
   "id": "384d5038",
   "metadata": {},
   "outputs": [
    {
     "data": {
      "text/html": [
       "<div>\n",
       "<style scoped>\n",
       "    .dataframe tbody tr th:only-of-type {\n",
       "        vertical-align: middle;\n",
       "    }\n",
       "\n",
       "    .dataframe tbody tr th {\n",
       "        vertical-align: top;\n",
       "    }\n",
       "\n",
       "    .dataframe thead th {\n",
       "        text-align: right;\n",
       "    }\n",
       "</style>\n",
       "<table border=\"1\" class=\"dataframe\">\n",
       "  <thead>\n",
       "    <tr style=\"text-align: right;\">\n",
       "      <th></th>\n",
       "      <th>Id</th>\n",
       "      <th>MSSubClass</th>\n",
       "      <th>MSZoning</th>\n",
       "      <th>LotFrontage</th>\n",
       "      <th>LotArea</th>\n",
       "      <th>Street</th>\n",
       "      <th>Alley</th>\n",
       "      <th>LotShape</th>\n",
       "      <th>LandContour</th>\n",
       "      <th>Utilities</th>\n",
       "      <th>...</th>\n",
       "      <th>PoolArea</th>\n",
       "      <th>PoolQC</th>\n",
       "      <th>Fence</th>\n",
       "      <th>MiscFeature</th>\n",
       "      <th>MiscVal</th>\n",
       "      <th>MoSold</th>\n",
       "      <th>YrSold</th>\n",
       "      <th>SaleType</th>\n",
       "      <th>SaleCondition</th>\n",
       "      <th>SalePrice</th>\n",
       "    </tr>\n",
       "  </thead>\n",
       "  <tbody>\n",
       "    <tr>\n",
       "      <th>0</th>\n",
       "      <td>1</td>\n",
       "      <td>60</td>\n",
       "      <td>RL</td>\n",
       "      <td>65.0</td>\n",
       "      <td>8450</td>\n",
       "      <td>Pave</td>\n",
       "      <td>NaN</td>\n",
       "      <td>Reg</td>\n",
       "      <td>Lvl</td>\n",
       "      <td>AllPub</td>\n",
       "      <td>...</td>\n",
       "      <td>0</td>\n",
       "      <td>NaN</td>\n",
       "      <td>NaN</td>\n",
       "      <td>NaN</td>\n",
       "      <td>0</td>\n",
       "      <td>2</td>\n",
       "      <td>2008</td>\n",
       "      <td>WD</td>\n",
       "      <td>Normal</td>\n",
       "      <td>208500</td>\n",
       "    </tr>\n",
       "    <tr>\n",
       "      <th>1</th>\n",
       "      <td>2</td>\n",
       "      <td>20</td>\n",
       "      <td>RL</td>\n",
       "      <td>80.0</td>\n",
       "      <td>9600</td>\n",
       "      <td>Pave</td>\n",
       "      <td>NaN</td>\n",
       "      <td>Reg</td>\n",
       "      <td>Lvl</td>\n",
       "      <td>AllPub</td>\n",
       "      <td>...</td>\n",
       "      <td>0</td>\n",
       "      <td>NaN</td>\n",
       "      <td>NaN</td>\n",
       "      <td>NaN</td>\n",
       "      <td>0</td>\n",
       "      <td>5</td>\n",
       "      <td>2007</td>\n",
       "      <td>WD</td>\n",
       "      <td>Normal</td>\n",
       "      <td>181500</td>\n",
       "    </tr>\n",
       "    <tr>\n",
       "      <th>2</th>\n",
       "      <td>3</td>\n",
       "      <td>60</td>\n",
       "      <td>RL</td>\n",
       "      <td>68.0</td>\n",
       "      <td>11250</td>\n",
       "      <td>Pave</td>\n",
       "      <td>NaN</td>\n",
       "      <td>IR1</td>\n",
       "      <td>Lvl</td>\n",
       "      <td>AllPub</td>\n",
       "      <td>...</td>\n",
       "      <td>0</td>\n",
       "      <td>NaN</td>\n",
       "      <td>NaN</td>\n",
       "      <td>NaN</td>\n",
       "      <td>0</td>\n",
       "      <td>9</td>\n",
       "      <td>2008</td>\n",
       "      <td>WD</td>\n",
       "      <td>Normal</td>\n",
       "      <td>223500</td>\n",
       "    </tr>\n",
       "  </tbody>\n",
       "</table>\n",
       "<p>3 rows × 81 columns</p>\n",
       "</div>"
      ],
      "text/plain": [
       "   Id  MSSubClass MSZoning  LotFrontage  LotArea Street Alley LotShape  \\\n",
       "0   1          60       RL         65.0     8450   Pave   NaN      Reg   \n",
       "1   2          20       RL         80.0     9600   Pave   NaN      Reg   \n",
       "2   3          60       RL         68.0    11250   Pave   NaN      IR1   \n",
       "\n",
       "  LandContour Utilities  ... PoolArea PoolQC Fence MiscFeature MiscVal MoSold  \\\n",
       "0         Lvl    AllPub  ...        0    NaN   NaN         NaN       0      2   \n",
       "1         Lvl    AllPub  ...        0    NaN   NaN         NaN       0      5   \n",
       "2         Lvl    AllPub  ...        0    NaN   NaN         NaN       0      9   \n",
       "\n",
       "  YrSold  SaleType  SaleCondition  SalePrice  \n",
       "0   2008        WD         Normal     208500  \n",
       "1   2007        WD         Normal     181500  \n",
       "2   2008        WD         Normal     223500  \n",
       "\n",
       "[3 rows x 81 columns]"
      ]
     },
     "execution_count": 2,
     "metadata": {},
     "output_type": "execute_result"
    }
   ],
   "source": [
    "A.head(3)"
   ]
  },
  {
   "cell_type": "markdown",
   "id": "da725daf",
   "metadata": {},
   "source": [
    "# Missing Data Treatment"
   ]
  },
  {
   "cell_type": "code",
   "execution_count": 3,
   "id": "edf1dcb0",
   "metadata": {},
   "outputs": [],
   "source": [
    "#A.isna().sum()"
   ]
  },
  {
   "cell_type": "code",
   "execution_count": 4,
   "id": "7958bb43",
   "metadata": {},
   "outputs": [],
   "source": [
    "A.Alley = A.Alley.fillna(\"No alley access\")\n",
    "A.BsmtQual = A.BsmtQual.fillna(\"No Basement\")\n",
    "A.BsmtCond = A.BsmtCond.fillna(\"No Basement\")\n",
    "A.BsmtExposure = A.BsmtExposure.fillna(\"No Basement\")\n",
    "A.BsmtFinType1 = A.BsmtFinType1.fillna(\"No Basement\")\n",
    "A.BsmtFinType2 = A.BsmtFinType2.fillna(\"No Basement\")\n",
    "A.FireplaceQu = A.FireplaceQu.fillna(\"No Fireplace\")\n",
    "A.GarageType = A.GarageType.fillna(\"No Garage\")\n",
    "A.GarageFinish = A.GarageFinish.fillna(\"No Garage\")\n",
    "A.GarageQual = A.GarageQual.fillna(\"No Garage\")\n",
    "A.GarageCond = A.GarageCond.fillna(\"No Garage\")\n",
    "A.PoolQC = A.PoolQC.fillna(\"No Pool\")\n",
    "A.Fence = A.Fence.fillna(\"No Fence\")\n",
    "A.MiscFeature = A.MiscFeature.fillna(\"None\")\n",
    "\n",
    "B.Alley = B.Alley.fillna(\"No alley access\")\n",
    "B.BsmtQual = B.BsmtQual.fillna(\"No Basement\")\n",
    "B.BsmtCond = B.BsmtCond.fillna(\"No Basement\")\n",
    "B.BsmtExposure = B.BsmtExposure.fillna(\"No Basement\")\n",
    "B.BsmtFinType1 = B.BsmtFinType1.fillna(\"No Basement\")\n",
    "B.BsmtFinType2 = B.BsmtFinType2.fillna(\"No Basement\")\n",
    "B.FireplaceQu = B.FireplaceQu.fillna(\"No Fireplace\")\n",
    "B.GarageType = B.GarageType.fillna(\"No Garage\")\n",
    "B.GarageFinish = B.GarageFinish.fillna(\"No Garage\")\n",
    "B.GarageQual = B.GarageQual.fillna(\"No Garage\")\n",
    "B.GarageCond = B.GarageCond.fillna(\"No Garage\")\n",
    "B.PoolQC = B.PoolQC.fillna(\"No Pool\")\n",
    "B.Fence = B.Fence.fillna(\"No Fence\")\n",
    "B.MiscFeature = B.MiscFeature.fillna(\"None\")"
   ]
  },
  {
   "cell_type": "code",
   "execution_count": 5,
   "id": "28081acc",
   "metadata": {},
   "outputs": [],
   "source": [
    "from functions import replacer\n",
    "replacer(A)\n",
    "replacer(B)"
   ]
  },
  {
   "cell_type": "markdown",
   "id": "6434441a",
   "metadata": {},
   "source": [
    "# Exploratory Data Analysis"
   ]
  },
  {
   "cell_type": "code",
   "execution_count": 6,
   "id": "80d8d576",
   "metadata": {},
   "outputs": [],
   "source": [
    "cat = []\n",
    "con = []\n",
    "for i in A.columns:\n",
    "    if(A[i].dtypes == \"object\"):\n",
    "        cat.append(i)\n",
    "    else:\n",
    "        con.append(i)"
   ]
  },
  {
   "cell_type": "code",
   "execution_count": 7,
   "id": "d300350b",
   "metadata": {},
   "outputs": [
    {
     "data": {
      "text/plain": [
       "KitchenAbvGr    -0.135907\n",
       "EnclosedPorch   -0.128578\n",
       "MSSubClass      -0.084284\n",
       "OverallCond     -0.077856\n",
       "YrSold          -0.028923\n",
       "LowQualFinSF    -0.025606\n",
       "Id              -0.021917\n",
       "MiscVal         -0.021190\n",
       "BsmtHalfBath    -0.016844\n",
       "BsmtFinSF2      -0.011378\n",
       "3SsnPorch        0.044584\n",
       "MoSold           0.046432\n",
       "PoolArea         0.092404\n",
       "ScreenPorch      0.111447\n",
       "BedroomAbvGr     0.168213\n",
       "BsmtUnfSF        0.214479\n",
       "BsmtFullBath     0.227122\n",
       "LotArea          0.263843\n",
       "HalfBath         0.284108\n",
       "OpenPorchSF      0.315856\n",
       "2ndFlrSF         0.319334\n",
       "WoodDeckSF       0.324413\n",
       "LotFrontage      0.334901\n",
       "BsmtFinSF1       0.386420\n",
       "Fireplaces       0.466929\n",
       "GarageYrBlt      0.470177\n",
       "MasVnrArea       0.475241\n",
       "YearRemodAdd     0.507101\n",
       "YearBuilt        0.522897\n",
       "TotRmsAbvGrd     0.533723\n",
       "FullBath         0.560664\n",
       "1stFlrSF         0.605852\n",
       "TotalBsmtSF      0.613581\n",
       "GarageArea       0.623431\n",
       "GarageCars       0.640409\n",
       "GrLivArea        0.708624\n",
       "OverallQual      0.790982\n",
       "SalePrice        1.000000\n",
       "Name: SalePrice, dtype: float64"
      ]
     },
     "execution_count": 7,
     "metadata": {},
     "output_type": "execute_result"
    }
   ],
   "source": [
    "A.corr()[\"SalePrice\"].sort_values()"
   ]
  },
  {
   "cell_type": "markdown",
   "id": "a39f5bfc",
   "metadata": {},
   "source": [
    "# Define X and Y"
   ]
  },
  {
   "cell_type": "code",
   "execution_count": 8,
   "id": "0e3b8704",
   "metadata": {},
   "outputs": [],
   "source": [
    "#A.isna().sum()"
   ]
  },
  {
   "cell_type": "code",
   "execution_count": 9,
   "id": "d8ef4559",
   "metadata": {},
   "outputs": [],
   "source": [
    "X = A.drop(labels=[\"Id\",\"SalePrice\"],axis=1)\n",
    "Y = A[[\"SalePrice\"]]"
   ]
  },
  {
   "cell_type": "code",
   "execution_count": 10,
   "id": "7d6d764f",
   "metadata": {},
   "outputs": [],
   "source": [
    "#X.isna().sum()"
   ]
  },
  {
   "cell_type": "markdown",
   "id": "3f8edd0e",
   "metadata": {},
   "source": [
    "# Removing Outliers"
   ]
  },
  {
   "cell_type": "code",
   "execution_count": 11,
   "id": "c09f3a55",
   "metadata": {},
   "outputs": [],
   "source": [
    "from functions import standardize,outliers\n",
    "X1 = standardize(X)\n",
    "OL = outliers(X1)"
   ]
  },
  {
   "cell_type": "code",
   "execution_count": 12,
   "id": "d304a3cf",
   "metadata": {},
   "outputs": [],
   "source": [
    "#X1.isna().sum()"
   ]
  },
  {
   "cell_type": "code",
   "execution_count": 13,
   "id": "4b2f6f33",
   "metadata": {},
   "outputs": [],
   "source": [
    "X = X.drop(index=OL,axis=0)\n",
    "Y = Y.drop(index=OL,axis=0)"
   ]
  },
  {
   "cell_type": "code",
   "execution_count": 14,
   "id": "0b5072cf",
   "metadata": {},
   "outputs": [
    {
     "data": {
      "text/plain": [
       "(1021, 79)"
      ]
     },
     "execution_count": 14,
     "metadata": {},
     "output_type": "execute_result"
    }
   ],
   "source": [
    "X.shape"
   ]
  },
  {
   "cell_type": "code",
   "execution_count": 15,
   "id": "e81a35ee",
   "metadata": {},
   "outputs": [],
   "source": [
    "X.index = range(0,1021,1)\n",
    "Y.index = range(0,1021,1)"
   ]
  },
  {
   "cell_type": "markdown",
   "id": "44d7e817",
   "metadata": {},
   "source": [
    "# Preprocessing"
   ]
  },
  {
   "cell_type": "code",
   "execution_count": 16,
   "id": "00a68ec2",
   "metadata": {},
   "outputs": [],
   "source": [
    "from functions import preprocessing\n",
    "Xnew = preprocessing(X)"
   ]
  },
  {
   "cell_type": "code",
   "execution_count": 17,
   "id": "e62d8bd9",
   "metadata": {},
   "outputs": [
    {
     "data": {
      "text/plain": [
       "MSSubClass               0\n",
       "LotFrontage              0\n",
       "LotArea                  0\n",
       "OverallQual              0\n",
       "OverallCond              0\n",
       "                        ..\n",
       "SaleCondition_AdjLand    0\n",
       "SaleCondition_Alloca     0\n",
       "SaleCondition_Family     0\n",
       "SaleCondition_Normal     0\n",
       "SaleCondition_Partial    0\n",
       "Length: 273, dtype: int64"
      ]
     },
     "execution_count": 17,
     "metadata": {},
     "output_type": "execute_result"
    }
   ],
   "source": [
    "Xnew.isna().sum()"
   ]
  },
  {
   "cell_type": "markdown",
   "id": "1848c2e4",
   "metadata": {},
   "source": [
    "# Training testing split"
   ]
  },
  {
   "cell_type": "code",
   "execution_count": 18,
   "id": "b51f81b2",
   "metadata": {},
   "outputs": [],
   "source": [
    "from sklearn.model_selection import train_test_split\n",
    "xtrain,xtest,ytrain,ytest=train_test_split(Xnew,Y,test_size=0.2,random_state=21)"
   ]
  },
  {
   "cell_type": "markdown",
   "id": "bc378d17",
   "metadata": {},
   "source": [
    "# Creating a Backward elemination OLS model"
   ]
  },
  {
   "cell_type": "code",
   "execution_count": 19,
   "id": "a344a579",
   "metadata": {},
   "outputs": [
    {
     "name": "stdout",
     "output_type": "stream",
     "text": [
      "Dropped: column: BldgType_Twnhs \tRsquared: 0.9341\n"
     ]
    }
   ],
   "source": [
    "from statsmodels.api import OLS,add_constant\n",
    "xconst = add_constant(xtrain)\n",
    "ol = OLS(ytrain,xconst)\n",
    "model = ol.fit()\n",
    "rsq = model.rsquared_adj\n",
    "col_to_drop = model.pvalues.sort_values().index[-1]\n",
    "print(\"Dropped: column:\",col_to_drop,\"\\tRsquared:\",round(rsq,4))\n",
    "Xnew = Xnew.drop(labels=col_to_drop,axis=1)\n",
    "xtrain,xtest,ytrain,ytest=train_test_split(Xnew,Y,test_size=0.2,random_state=21)\n",
    "xconst = add_constant(xtrain)\n",
    "ol = OLS(ytrain,xconst)\n",
    "model = ol.fit()\n",
    "rsq = model.rsquared_adj"
   ]
  },
  {
   "cell_type": "code",
   "execution_count": 20,
   "id": "d02e3c5b",
   "metadata": {},
   "outputs": [
    {
     "name": "stdout",
     "output_type": "stream",
     "text": [
      "Dropped: column: Neighborhood_Veenker \tRsquared: 0.9341\n",
      "Dropped: column: HalfBath \tRsquared: 0.9341\n",
      "Dropped: column: Neighborhood_SawyerW \tRsquared: 0.9342\n",
      "Dropped: column: Fence_GdPrv \tRsquared: 0.9343\n",
      "Dropped: column: ExterQual_Fa \tRsquared: 0.9343\n",
      "Dropped: column: BsmtFinType1_ALQ \tRsquared: 0.9343\n",
      "Dropped: column: Neighborhood_Blueste \tRsquared: 0.9343\n",
      "Dropped: column: MasVnrArea \tRsquared: 0.9343\n",
      "Dropped: column: Functional_Maj2 \tRsquared: 0.9344\n",
      "Dropped: column: Functional_Maj1 \tRsquared: 0.9344\n"
     ]
    }
   ],
   "source": [
    "for i in range(0,10):\n",
    "    from statsmodels.api import OLS,add_constant\n",
    "    xconst = add_constant(xtrain)\n",
    "    ol = OLS(ytrain,xconst)\n",
    "    model = ol.fit()\n",
    "    rsq = model.rsquared_adj\n",
    "    col_to_drop = model.pvalues.sort_values().index[-1]\n",
    "    print(\"Dropped: column:\",col_to_drop,\"\\tRsquared:\",round(rsq,4))\n",
    "    Xnew = Xnew.drop(labels=col_to_drop,axis=1)\n",
    "    xtrain,xtest,ytrain,ytest=train_test_split(Xnew,Y,test_size=0.2,random_state=21)\n",
    "    xconst = add_constant(xtrain)\n",
    "    ol = OLS(ytrain,xconst)\n",
    "    model = ol.fit()\n",
    "    rsq = model.rsquared_adj"
   ]
  },
  {
   "cell_type": "markdown",
   "id": "8e13d92f",
   "metadata": {},
   "source": [
    "# Creating a Linear model based on selected features"
   ]
  },
  {
   "cell_type": "code",
   "execution_count": 21,
   "id": "070063fa",
   "metadata": {},
   "outputs": [],
   "source": [
    "from sklearn.linear_model import LinearRegression\n",
    "lm=LinearRegression()\n",
    "model=lm.fit(xtrain,ytrain)\n",
    "tr_pred=model.predict(xtrain)\n",
    "ts_pred=model.predict(xtest)\n",
    "\n",
    "from sklearn.metrics import mean_squared_error\n",
    "tr_err=mean_squared_error(ytrain,tr_pred)\n",
    "ts_err=mean_squared_error(ytest,ts_pred)"
   ]
  },
  {
   "cell_type": "code",
   "execution_count": 22,
   "id": "cb825eec",
   "metadata": {},
   "outputs": [
    {
     "data": {
      "text/plain": [
       "226602167.55514705"
      ]
     },
     "execution_count": 22,
     "metadata": {},
     "output_type": "execute_result"
    }
   ],
   "source": [
    "tr_err"
   ]
  },
  {
   "cell_type": "code",
   "execution_count": 23,
   "id": "538c8899",
   "metadata": {},
   "outputs": [
    {
     "data": {
      "text/plain": [
       "1.9418816664570636e+28"
      ]
     },
     "execution_count": 23,
     "metadata": {},
     "output_type": "execute_result"
    }
   ],
   "source": [
    "ts_err"
   ]
  },
  {
   "cell_type": "code",
   "execution_count": 24,
   "id": "0608f56b",
   "metadata": {},
   "outputs": [],
   "source": [
    "#Xnew.corr()"
   ]
  },
  {
   "cell_type": "markdown",
   "id": "ca98d362",
   "metadata": {},
   "source": [
    "# Regularization"
   ]
  },
  {
   "cell_type": "code",
   "execution_count": 25,
   "id": "1134c14f",
   "metadata": {},
   "outputs": [],
   "source": [
    "lambdas = []\n",
    "q = 8\n",
    "for i in range(0,4000,1):\n",
    "    q = q + 0.001\n",
    "    q = round(q,4)\n",
    "    lambdas.append(q)"
   ]
  },
  {
   "cell_type": "code",
   "execution_count": 26,
   "id": "3cc34e0f",
   "metadata": {},
   "outputs": [],
   "source": [
    "from sklearn.linear_model import Ridge\n",
    "tr = []\n",
    "ts = []\n",
    "for i in lambdas:\n",
    "    rr = Ridge(alpha=i)\n",
    "    model = rr.fit(xtrain,ytrain)\n",
    "    tr_pred = model.predict(xtrain)\n",
    "    ts_pred = model.predict(xtest)\n",
    "    from sklearn.metrics import mean_absolute_error\n",
    "    tr_err = mean_absolute_error(ytrain,tr_pred)\n",
    "    ts_err = mean_absolute_error(ytest,ts_pred)\n",
    "    tr.append(tr_err)\n",
    "    ts.append(ts_err)\n"
   ]
  },
  {
   "cell_type": "code",
   "execution_count": 27,
   "id": "6cc76499",
   "metadata": {},
   "outputs": [],
   "source": [
    "t = range(0,4000,1)"
   ]
  },
  {
   "cell_type": "code",
   "execution_count": 28,
   "id": "e51bc606",
   "metadata": {},
   "outputs": [
    {
     "data": {
      "text/plain": [
       "[<matplotlib.lines.Line2D at 0x20c7314d220>]"
      ]
     },
     "execution_count": 28,
     "metadata": {},
     "output_type": "execute_result"
    },
    {
     "data": {
      "image/png": "[encoded data removed]",
      "text/plain": [
       "<Figure size 432x288 with 1 Axes>"
      ]
     },
     "metadata": {
      "needs_background": "light"
     },
     "output_type": "display_data"
    }
   ],
   "source": [
    "import matplotlib.pyplot as plt\n",
    "plt.plot(t,tr,c=\"red\")\n",
    "plt.plot(t,ts,c=\"blue\")"
   ]
  },
  {
   "cell_type": "code",
   "execution_count": 29,
   "id": "ec1bc669",
   "metadata": {},
   "outputs": [
    {
     "data": {
      "text/plain": [
       "12.0"
      ]
     },
     "execution_count": 29,
     "metadata": {},
     "output_type": "execute_result"
    }
   ],
   "source": [
    "lambdas[-1]"
   ]
  },
  {
   "cell_type": "code",
   "execution_count": 30,
   "id": "c0c40bb1",
   "metadata": {},
   "outputs": [
    {
     "data": {
      "text/plain": [
       "11398.992102519509"
      ]
     },
     "execution_count": 30,
     "metadata": {},
     "output_type": "execute_result"
    }
   ],
   "source": [
    "tr_err"
   ]
  },
  {
   "cell_type": "code",
   "execution_count": 31,
   "id": "b8f996ed",
   "metadata": {},
   "outputs": [
    {
     "data": {
      "text/plain": [
       "12020.423413403396"
      ]
     },
     "execution_count": 31,
     "metadata": {},
     "output_type": "execute_result"
    }
   ],
   "source": [
    "ts_err"
   ]
  },
  {
   "cell_type": "code",
   "execution_count": 32,
   "id": "02fb89bb",
   "metadata": {},
   "outputs": [],
   "source": [
    "rr=Ridge(alpha=12.0)\n",
    "model=rr.fit(xtrain,ytrain)"
   ]
  },
  {
   "cell_type": "code",
   "execution_count": 33,
   "id": "590ded6f",
   "metadata": {},
   "outputs": [
    {
     "data": {
      "text/plain": [
       "Index(['MSSubClass', 'LotFrontage', 'LotArea', 'OverallQual', 'OverallCond',\n",
       "       'YearBuilt', 'YearRemodAdd', 'BsmtFinSF1', 'BsmtFinSF2', 'BsmtUnfSF',\n",
       "       ...\n",
       "       'SaleType_ConLw', 'SaleType_New', 'SaleType_Oth', 'SaleType_WD',\n",
       "       'SaleCondition_Abnorml', 'SaleCondition_AdjLand',\n",
       "       'SaleCondition_Alloca', 'SaleCondition_Family', 'SaleCondition_Normal',\n",
       "       'SaleCondition_Partial'],\n",
       "      dtype='object', length=262)"
      ]
     },
     "execution_count": 33,
     "metadata": {},
     "output_type": "execute_result"
    }
   ],
   "source": [
    "xtrain.columns"
   ]
  },
  {
   "cell_type": "markdown",
   "id": "5a8732d8",
   "metadata": {},
   "source": [
    "# Creating test data ready for predictions"
   ]
  },
  {
   "cell_type": "code",
   "execution_count": 34,
   "id": "7d5fed1c",
   "metadata": {},
   "outputs": [],
   "source": [
    "xtest = B.drop(labels=[\"Id\"],axis=1)\n",
    "xtest_new = preprocessing(xtest)"
   ]
  },
  {
   "cell_type": "code",
   "execution_count": 37,
   "id": "c142bf9d",
   "metadata": {},
   "outputs": [],
   "source": [
    "#test_new[list(xtrain.columns)]"
   ]
  },
  {
   "cell_type": "code",
   "execution_count": 45,
   "id": "d69d91e6",
   "metadata": {},
   "outputs": [],
   "source": [
    "xtest_new['Exterior2nd_Other']=0\n",
    "xtest_new['Exterior2nd_Other']=0\n",
    "xtest_new['Condition2_RRNn']=0\n",
    "xtest_new['Exterior1st_ImStucc']=0\n",
    "xtest_new['Heating_Floor']=0\n",
    "xtest_new['GarageQual_Ex']=0"
   ]
  },
  {
   "cell_type": "code",
   "execution_count": 52,
   "id": "ef24633b",
   "metadata": {},
   "outputs": [],
   "source": [
    "final_data_for_pred = xtest_new[list(xtrain.columns)]"
   ]
  },
  {
   "cell_type": "markdown",
   "id": "520e4017",
   "metadata": {},
   "source": [
    "# predict and save to file"
   ]
  },
  {
   "cell_type": "code",
   "execution_count": 53,
   "id": "4b24099d",
   "metadata": {},
   "outputs": [],
   "source": [
    "pred = model.predict(final_data_for_pred)"
   ]
  },
  {
   "cell_type": "code",
   "execution_count": 56,
   "id": "891f977e",
   "metadata": {},
   "outputs": [],
   "source": [
    "C = B[[\"Id\"]]"
   ]
  },
  {
   "cell_type": "code",
   "execution_count": 57,
   "id": "ef56a937",
   "metadata": {},
   "outputs": [],
   "source": [
    "C['SalePrice']=pred"
   ]
  },
  {
   "cell_type": "code",
   "execution_count": 58,
   "id": "ca5e1726",
   "metadata": {},
   "outputs": [],
   "source": [
    "C.to_csv(\"Desktop/submissions.csv\")"
   ]
  },
  {
   "cell_type": "code",
   "execution_count": null,
   "id": "f9bdfd52",
   "metadata": {},
   "outputs": [],
   "source": []
  }
 ],
 "metadata": {
  "kernelspec": {
   "display_name": "Python 3 (ipykernel)",
   "language": "python",
   "name": "python3"
  },
  "language_info": {
   "codemirror_mode": {
    "name": "ipython",
    "version": 3
   },
   "file_extension": ".py",
   "mimetype": "text/x-python",
   "name": "python",
   "nbconvert_exporter": "python",
   "pygments_lexer": "ipython3",
   "version": "3.9.7"
  }
 },
 "nbformat": 4,
 "nbformat_minor": 5
}
